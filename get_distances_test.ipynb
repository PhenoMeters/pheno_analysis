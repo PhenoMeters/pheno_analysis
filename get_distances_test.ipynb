{
 "cells": [
  {
   "cell_type": "code",
   "execution_count": 15,
   "metadata": {},
   "outputs": [],
   "source": [
    "import pandas as pd\n",
    "import numpy as np \n",
    "import glob\n",
    "from Bio.PDB import *\n",
    "from biopandas.pdb import PandasPdb"
   ]
  },
  {
   "cell_type": "code",
   "execution_count": 2,
   "metadata": {},
   "outputs": [],
   "source": [
    "uniprot = \"P78344\""
   ]
  },
  {
   "cell_type": "code",
   "execution_count": 5,
   "metadata": {},
   "outputs": [
    {
     "name": "stdout",
     "output_type": "stream",
     "text": [
      "['/rcfs/projects/proteometer/alphafold_swissprot_pdb/AF-P78344-F1-model_v4.pdb']\n"
     ]
    }
   ],
   "source": [
    "parser = PDBParser()\n",
    "pdb_path = \"/rcfs/projects/proteometer/alphafold_swissprot_pdb\"\n",
    "pdb_file = glob.glob(\"/rcfs/projects/proteometer/alphafold_swissprot_pdb/*\" + uniprot + \"*\" \".pdb\")\n",
    "ppdb = PandasPdb()\n",
    "ppdb.read_pdb(pdb_file[0])\n",
    "\n",
    "print(pdb_file)\n"
   ]
  },
  {
   "cell_type": "code",
   "execution_count": 8,
   "metadata": {},
   "outputs": [
    {
     "data": {
      "text/html": [
       "<div>\n",
       "<style scoped>\n",
       "    .dataframe tbody tr th:only-of-type {\n",
       "        vertical-align: middle;\n",
       "    }\n",
       "\n",
       "    .dataframe tbody tr th {\n",
       "        vertical-align: top;\n",
       "    }\n",
       "\n",
       "    .dataframe thead th {\n",
       "        text-align: right;\n",
       "    }\n",
       "</style>\n",
       "<table border=\"1\" class=\"dataframe\">\n",
       "  <thead>\n",
       "    <tr style=\"text-align: right;\">\n",
       "      <th></th>\n",
       "      <th>record_name</th>\n",
       "      <th>atom_number</th>\n",
       "      <th>blank_1</th>\n",
       "      <th>atom_name</th>\n",
       "      <th>alt_loc</th>\n",
       "      <th>residue_name</th>\n",
       "      <th>blank_2</th>\n",
       "      <th>chain_id</th>\n",
       "      <th>residue_number</th>\n",
       "      <th>insertion</th>\n",
       "      <th>...</th>\n",
       "      <th>x_coord</th>\n",
       "      <th>y_coord</th>\n",
       "      <th>z_coord</th>\n",
       "      <th>occupancy</th>\n",
       "      <th>b_factor</th>\n",
       "      <th>blank_4</th>\n",
       "      <th>segment_id</th>\n",
       "      <th>element_symbol</th>\n",
       "      <th>charge</th>\n",
       "      <th>line_idx</th>\n",
       "    </tr>\n",
       "  </thead>\n",
       "  <tbody>\n",
       "    <tr>\n",
       "      <th>0</th>\n",
       "      <td>ATOM</td>\n",
       "      <td>1</td>\n",
       "      <td></td>\n",
       "      <td>N</td>\n",
       "      <td></td>\n",
       "      <td>MET</td>\n",
       "      <td></td>\n",
       "      <td>A</td>\n",
       "      <td>1</td>\n",
       "      <td></td>\n",
       "      <td>...</td>\n",
       "      <td>-4.046</td>\n",
       "      <td>8.284</td>\n",
       "      <td>-2.813</td>\n",
       "      <td>1.0</td>\n",
       "      <td>31.08</td>\n",
       "      <td></td>\n",
       "      <td></td>\n",
       "      <td>N</td>\n",
       "      <td>NaN</td>\n",
       "      <td>116</td>\n",
       "    </tr>\n",
       "    <tr>\n",
       "      <th>1</th>\n",
       "      <td>ATOM</td>\n",
       "      <td>2</td>\n",
       "      <td></td>\n",
       "      <td>CA</td>\n",
       "      <td></td>\n",
       "      <td>MET</td>\n",
       "      <td></td>\n",
       "      <td>A</td>\n",
       "      <td>1</td>\n",
       "      <td></td>\n",
       "      <td>...</td>\n",
       "      <td>-4.995</td>\n",
       "      <td>7.749</td>\n",
       "      <td>-1.812</td>\n",
       "      <td>1.0</td>\n",
       "      <td>31.08</td>\n",
       "      <td></td>\n",
       "      <td></td>\n",
       "      <td>C</td>\n",
       "      <td>NaN</td>\n",
       "      <td>117</td>\n",
       "    </tr>\n",
       "    <tr>\n",
       "      <th>2</th>\n",
       "      <td>ATOM</td>\n",
       "      <td>3</td>\n",
       "      <td></td>\n",
       "      <td>C</td>\n",
       "      <td></td>\n",
       "      <td>MET</td>\n",
       "      <td></td>\n",
       "      <td>A</td>\n",
       "      <td>1</td>\n",
       "      <td></td>\n",
       "      <td>...</td>\n",
       "      <td>-6.000</td>\n",
       "      <td>6.928</td>\n",
       "      <td>-2.590</td>\n",
       "      <td>1.0</td>\n",
       "      <td>31.08</td>\n",
       "      <td></td>\n",
       "      <td></td>\n",
       "      <td>C</td>\n",
       "      <td>NaN</td>\n",
       "      <td>118</td>\n",
       "    </tr>\n",
       "    <tr>\n",
       "      <th>3</th>\n",
       "      <td>ATOM</td>\n",
       "      <td>4</td>\n",
       "      <td></td>\n",
       "      <td>CB</td>\n",
       "      <td></td>\n",
       "      <td>MET</td>\n",
       "      <td></td>\n",
       "      <td>A</td>\n",
       "      <td>1</td>\n",
       "      <td></td>\n",
       "      <td>...</td>\n",
       "      <td>-5.736</td>\n",
       "      <td>8.872</td>\n",
       "      <td>-1.057</td>\n",
       "      <td>1.0</td>\n",
       "      <td>31.08</td>\n",
       "      <td></td>\n",
       "      <td></td>\n",
       "      <td>C</td>\n",
       "      <td>NaN</td>\n",
       "      <td>119</td>\n",
       "    </tr>\n",
       "    <tr>\n",
       "      <th>4</th>\n",
       "      <td>ATOM</td>\n",
       "      <td>5</td>\n",
       "      <td></td>\n",
       "      <td>O</td>\n",
       "      <td></td>\n",
       "      <td>MET</td>\n",
       "      <td></td>\n",
       "      <td>A</td>\n",
       "      <td>1</td>\n",
       "      <td></td>\n",
       "      <td>...</td>\n",
       "      <td>-6.832</td>\n",
       "      <td>7.518</td>\n",
       "      <td>-3.262</td>\n",
       "      <td>1.0</td>\n",
       "      <td>31.08</td>\n",
       "      <td></td>\n",
       "      <td></td>\n",
       "      <td>O</td>\n",
       "      <td>NaN</td>\n",
       "      <td>120</td>\n",
       "    </tr>\n",
       "  </tbody>\n",
       "</table>\n",
       "<p>5 rows × 21 columns</p>\n",
       "</div>"
      ],
      "text/plain": [
       "  record_name  atom_number blank_1 atom_name alt_loc residue_name blank_2  \\\n",
       "0        ATOM            1                 N                  MET           \n",
       "1        ATOM            2                CA                  MET           \n",
       "2        ATOM            3                 C                  MET           \n",
       "3        ATOM            4                CB                  MET           \n",
       "4        ATOM            5                 O                  MET           \n",
       "\n",
       "  chain_id  residue_number insertion  ... x_coord  y_coord  z_coord  \\\n",
       "0        A               1            ...  -4.046    8.284   -2.813   \n",
       "1        A               1            ...  -4.995    7.749   -1.812   \n",
       "2        A               1            ...  -6.000    6.928   -2.590   \n",
       "3        A               1            ...  -5.736    8.872   -1.057   \n",
       "4        A               1            ...  -6.832    7.518   -3.262   \n",
       "\n",
       "   occupancy  b_factor  blank_4 segment_id element_symbol charge  line_idx  \n",
       "0        1.0     31.08                                  N    NaN       116  \n",
       "1        1.0     31.08                                  C    NaN       117  \n",
       "2        1.0     31.08                                  C    NaN       118  \n",
       "3        1.0     31.08                                  C    NaN       119  \n",
       "4        1.0     31.08                                  O    NaN       120  \n",
       "\n",
       "[5 rows x 21 columns]"
      ]
     },
     "execution_count": 8,
     "metadata": {},
     "output_type": "execute_result"
    }
   ],
   "source": [
    "ppdb.df['ATOM'].head()"
   ]
  },
  {
   "cell_type": "code",
   "execution_count": 7,
   "metadata": {},
   "outputs": [
    {
     "data": {
      "text/plain": [
       "np.float64(36.35657313334137)"
      ]
     },
     "execution_count": 7,
     "metadata": {},
     "output_type": "execute_result"
    }
   ],
   "source": [
    "atom_1 = ppdb.df['ATOM'].query('residue_number == 2 and atom_name == \"CA\"')\n",
    "atom_2 = ppdb.df['ATOM'].query('residue_number == 100 and atom_name == \"CA\"')\n",
    "x_p, y_p, z_p = atom_1['x_coord'].values[0], atom_1['y_coord'].values[0], atom_1['z_coord'].values[0]\n",
    "x_q, y_q, z_q  = atom_2['x_coord'].values[0], atom_2['y_coord'].values[0], atom_2['z_coord'].values[0]\n",
    "distance = np.sqrt((x_p - x_q)**2 + (y_p - y_q)**2 + (z_p - z_q)**2)\n",
    "\n",
    "distance"
   ]
  },
  {
   "cell_type": "code",
   "execution_count": 6,
   "metadata": {},
   "outputs": [],
   "source": [
    "def get_pairwise_distance(structure, residue_num_1, residue_num_2):\n",
    "    atom_1 = structure.query('residue_number == @residue_num_1 and atom_name == \"CA\"') # restrict to only res #1 and alpha carbon \n",
    "    atom_2 = structure.query('residue_number == @residue_num_2 and atom_name == \"CA\"') # restrict to only res #2 and alpha carbon \n",
    "    x_p, y_p, z_p = atom_1['x_coord'].values[0], atom_1['y_coord'].values[0], atom_1['z_coord'].values[0]\n",
    "    x_q, y_q, z_q  = atom_2['x_coord'].values[0], atom_2['y_coord'].values[0], atom_2['z_coord'].values[0]\n",
    "    distance = np.sqrt((x_p - x_q)**2 + (y_p - y_q)**2 + (z_p - z_q)**2)\n",
    "    return distance\n"
   ]
  },
  {
   "cell_type": "code",
   "execution_count": 7,
   "metadata": {},
   "outputs": [
    {
     "name": "stdout",
     "output_type": "stream",
     "text": [
      "14.348114196646192\n"
     ]
    },
    {
     "data": {
      "text/plain": [
       "np.float64(28.696228393292383)"
      ]
     },
     "execution_count": 7,
     "metadata": {},
     "output_type": "execute_result"
    }
   ],
   "source": [
    "input_struct = ppdb.df['ATOM']\n",
    "\n",
    "output = get_pairwise_distance(input_struct,1,10)\n",
    "print(output)\n",
    "output * 2"
   ]
  },
  {
   "cell_type": "code",
   "execution_count": 8,
   "metadata": {},
   "outputs": [],
   "source": [
    "def find_mean_distances(structure, target_residue, residue_list):\n",
    "    residue1 = target_residue\n",
    "    distances = []\n",
    "    for residue2 in residue_list:\n",
    "        residue2 = float(residue2)\n",
    "        distance_to_add = get_pairwise_distance(structure, residue1, residue2)\n",
    "        # print(distance_to_add)\n",
    "        distances.append(distance_to_add)\n",
    "        distances = [x for x in distances if x != 'NaN']\n",
    "    return np.mean(distances)"
   ]
  },
  {
   "cell_type": "code",
   "execution_count": 11,
   "metadata": {},
   "outputs": [
    {
     "ename": "NameError",
     "evalue": "name 'input_struct' is not defined",
     "output_type": "error",
     "traceback": [
      "\u001b[0;31m---------------------------------------------------------------------------\u001b[0m",
      "\u001b[0;31mNameError\u001b[0m                                 Traceback (most recent call last)",
      "Cell \u001b[0;32mIn[11], line 2\u001b[0m\n\u001b[1;32m      1\u001b[0m pocket_residues \u001b[38;5;241m=\u001b[39m [\u001b[38;5;124m'\u001b[39m\u001b[38;5;124m97\u001b[39m\u001b[38;5;124m'\u001b[39m, \u001b[38;5;124m'\u001b[39m\u001b[38;5;124m99\u001b[39m\u001b[38;5;124m'\u001b[39m, \u001b[38;5;124m'\u001b[39m\u001b[38;5;124m100\u001b[39m\u001b[38;5;124m'\u001b[39m, \u001b[38;5;124m'\u001b[39m\u001b[38;5;124m101\u001b[39m\u001b[38;5;124m'\u001b[39m, \u001b[38;5;124m'\u001b[39m\u001b[38;5;124m102\u001b[39m\u001b[38;5;124m'\u001b[39m, \u001b[38;5;124m'\u001b[39m\u001b[38;5;124m159\u001b[39m\u001b[38;5;124m'\u001b[39m, \u001b[38;5;124m'\u001b[39m\u001b[38;5;124m163\u001b[39m\u001b[38;5;124m'\u001b[39m, \u001b[38;5;124m'\u001b[39m\u001b[38;5;124m189\u001b[39m\u001b[38;5;124m'\u001b[39m, \u001b[38;5;124m'\u001b[39m\u001b[38;5;124m190\u001b[39m\u001b[38;5;124m'\u001b[39m]\n\u001b[0;32m----> 2\u001b[0m output \u001b[38;5;241m=\u001b[39m find_mean_distances(\u001b[43minput_struct\u001b[49m,\u001b[38;5;241m2\u001b[39m,pocket_residues)\n",
      "\u001b[0;31mNameError\u001b[0m: name 'input_struct' is not defined"
     ]
    }
   ],
   "source": [
    "pocket_residues = ['97', '99', '100', '101', '102', '159', '163', '189', '190']\n",
    "output = find_mean_distances(input_struct,2,pocket_residues)"
   ]
  },
  {
   "cell_type": "code",
   "execution_count": 10,
   "metadata": {},
   "outputs": [],
   "source": [
    "\n",
    "def find_mean_distances(structure, target_residue, residue_list):\n",
    "    residue1 = target_residue\n",
    "    distances = []\n",
    "    for residue2 in residue_list:\n",
    "        residue2 = float(residue2)\n",
    "        distance_to_add = get_pairwise_distance(structure, residue1, residue2)\n",
    "        # print(distance_to_add)\n",
    "        distances.append(distance_to_add)\n",
    "        distances = [x for x in distances if x != 'NaN']\n",
    "    return np.mean(distances)\n",
    "\n",
    "def get_pairwise_distance(structure, residue_num_1, residue_num_2):\n",
    "    atom_1 = structure.query('residue_number == @residue_num_1 and atom_name == \"CA\"') # restrict to only res #1 and alpha carbon \n",
    "    atom_2 = structure.query('residue_number == @residue_num_2 and atom_name == \"CA\"') # restrict to only res #2 and alpha carbon \n",
    "    if (atom_1['x_coord'].values[0], atom_1['y_coord'].values[0], atom_1['z_coord'].values[0],atom_2['x_coord'].values[0], atom_2['y_coord'].values[0], atom_2['z_coord'].values[0]):\n",
    "        print(atom_1['x_coord'].values[0], atom_1['y_coord'].values[0], atom_1['z_coord'].values[0])\n",
    "        print(atom_2['x_coord'].values[0], atom_2['y_coord'].values[0], atom_2['z_coord'].values[0])\n",
    "        x_p, y_p, z_p = atom_1['x_coord'].values[0], atom_1['y_coord'].values[0], atom_1['z_coord'].values[0]\n",
    "        x_q, y_q, z_q  = atom_2['x_coord'].values[0], atom_2['y_coord'].values[0], atom_2['z_coord'].values[0]\n",
    "        distance = np.sqrt((x_p - x_q)**2 + (y_p - y_q)**2 + (z_p - z_q)**2)\n",
    "    return distance"
   ]
  },
  {
   "cell_type": "code",
   "execution_count": 14,
   "metadata": {},
   "outputs": [
    {
     "name": "stdout",
     "output_type": "stream",
     "text": [
      "17.355 -29.54 -10.985\n",
      "17.512 -24.141 -12.244\n",
      "17.355 -29.54 -10.985\n",
      "13.793 -26.878 -15.078\n",
      "17.355 -29.54 -10.985\n",
      "13.574 -23.005 -15.129\n",
      "17.355 -29.54 -10.985\n",
      "15.92 -22.641 -18.172\n",
      "17.355 -29.54 -10.985\n",
      "13.83 -25.354 -19.951\n",
      "17.355 -29.54 -10.985\n",
      "30.29 -8.651 -21.745\n",
      "17.355 -29.54 -10.985\n",
      "19.759 -10.89 -18.101\n",
      "17.355 -29.54 -10.985\n",
      "6.268 16.794 10.653\n",
      "17.355 -29.54 -10.985\n",
      "3.603 15.267 12.959\n"
     ]
    }
   ],
   "source": [
    "input_struct = ppdb.df['ATOM']\n",
    "residue_num = 95.0\n",
    "new_dist = find_mean_distances(input_struct, residue_num, pocket_residues)\n"
   ]
  }
 ],
 "metadata": {
  "kernelspec": {
   "display_name": "snakemake",
   "language": "python",
   "name": "python3"
  },
  "language_info": {
   "codemirror_mode": {
    "name": "ipython",
    "version": 3
   },
   "file_extension": ".py",
   "mimetype": "text/x-python",
   "name": "python",
   "nbconvert_exporter": "python",
   "pygments_lexer": "ipython3",
   "version": "3.10.0"
  }
 },
 "nbformat": 4,
 "nbformat_minor": 2
}

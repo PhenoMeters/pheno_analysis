{
 "cells": [
  {
   "cell_type": "code",
   "execution_count": 1,
   "metadata": {},
   "outputs": [],
   "source": [
    "import pandas as pd\n",
    "import numpy as np \n",
    "import glob\n",
    "from Bio.PDB import *\n",
    "from biopandas.pdb import PandasPdb"
   ]
  },
  {
   "cell_type": "code",
   "execution_count": 2,
   "metadata": {},
   "outputs": [],
   "source": [
    "uniprot = \"Q9UPQ9\""
   ]
  },
  {
   "cell_type": "code",
   "execution_count": 3,
   "metadata": {},
   "outputs": [
    {
     "name": "stdout",
     "output_type": "stream",
     "text": [
      "['/rcfs/projects/proteometer/alphafold_swissprot_pdb/AF-Q9UPQ9-F1-model_v4.pdb']\n"
     ]
    }
   ],
   "source": [
    "parser = PDBParser()\n",
    "pdb_path = \"/rcfs/projects/proteometer/alphafold_swissprot_pdb\"\n",
    "pdb_file = glob.glob(\"/rcfs/projects/proteometer/alphafold_swissprot_pdb/*\" + uniprot + \"*\" \".pdb\")\n",
    "ppdb = PandasPdb()\n",
    "ppdb.read_pdb(pdb_file[0])\n",
    "\n",
    "print(pdb_file)\n"
   ]
  },
  {
   "cell_type": "code",
   "execution_count": 4,
   "metadata": {},
   "outputs": [
    {
     "data": {
      "text/html": [
       "<div>\n",
       "<style scoped>\n",
       "    .dataframe tbody tr th:only-of-type {\n",
       "        vertical-align: middle;\n",
       "    }\n",
       "\n",
       "    .dataframe tbody tr th {\n",
       "        vertical-align: top;\n",
       "    }\n",
       "\n",
       "    .dataframe thead th {\n",
       "        text-align: right;\n",
       "    }\n",
       "</style>\n",
       "<table border=\"1\" class=\"dataframe\">\n",
       "  <thead>\n",
       "    <tr style=\"text-align: right;\">\n",
       "      <th></th>\n",
       "      <th>record_name</th>\n",
       "      <th>atom_number</th>\n",
       "      <th>blank_1</th>\n",
       "      <th>atom_name</th>\n",
       "      <th>alt_loc</th>\n",
       "      <th>residue_name</th>\n",
       "      <th>blank_2</th>\n",
       "      <th>chain_id</th>\n",
       "      <th>residue_number</th>\n",
       "      <th>insertion</th>\n",
       "      <th>...</th>\n",
       "      <th>x_coord</th>\n",
       "      <th>y_coord</th>\n",
       "      <th>z_coord</th>\n",
       "      <th>occupancy</th>\n",
       "      <th>b_factor</th>\n",
       "      <th>blank_4</th>\n",
       "      <th>segment_id</th>\n",
       "      <th>element_symbol</th>\n",
       "      <th>charge</th>\n",
       "      <th>line_idx</th>\n",
       "    </tr>\n",
       "  </thead>\n",
       "  <tbody>\n",
       "    <tr>\n",
       "      <th>0</th>\n",
       "      <td>ATOM</td>\n",
       "      <td>1</td>\n",
       "      <td></td>\n",
       "      <td>N</td>\n",
       "      <td></td>\n",
       "      <td>MET</td>\n",
       "      <td></td>\n",
       "      <td>A</td>\n",
       "      <td>1</td>\n",
       "      <td></td>\n",
       "      <td>...</td>\n",
       "      <td>38.776</td>\n",
       "      <td>-10.346</td>\n",
       "      <td>-16.776</td>\n",
       "      <td>1.0</td>\n",
       "      <td>60.47</td>\n",
       "      <td></td>\n",
       "      <td></td>\n",
       "      <td>N</td>\n",
       "      <td>NaN</td>\n",
       "      <td>187</td>\n",
       "    </tr>\n",
       "    <tr>\n",
       "      <th>1</th>\n",
       "      <td>ATOM</td>\n",
       "      <td>2</td>\n",
       "      <td></td>\n",
       "      <td>CA</td>\n",
       "      <td></td>\n",
       "      <td>MET</td>\n",
       "      <td></td>\n",
       "      <td>A</td>\n",
       "      <td>1</td>\n",
       "      <td></td>\n",
       "      <td>...</td>\n",
       "      <td>37.705</td>\n",
       "      <td>-9.353</td>\n",
       "      <td>-16.508</td>\n",
       "      <td>1.0</td>\n",
       "      <td>60.47</td>\n",
       "      <td></td>\n",
       "      <td></td>\n",
       "      <td>C</td>\n",
       "      <td>NaN</td>\n",
       "      <td>188</td>\n",
       "    </tr>\n",
       "    <tr>\n",
       "      <th>2</th>\n",
       "      <td>ATOM</td>\n",
       "      <td>3</td>\n",
       "      <td></td>\n",
       "      <td>C</td>\n",
       "      <td></td>\n",
       "      <td>MET</td>\n",
       "      <td></td>\n",
       "      <td>A</td>\n",
       "      <td>1</td>\n",
       "      <td></td>\n",
       "      <td>...</td>\n",
       "      <td>36.650</td>\n",
       "      <td>-9.913</td>\n",
       "      <td>-15.568</td>\n",
       "      <td>1.0</td>\n",
       "      <td>60.47</td>\n",
       "      <td></td>\n",
       "      <td></td>\n",
       "      <td>C</td>\n",
       "      <td>NaN</td>\n",
       "      <td>189</td>\n",
       "    </tr>\n",
       "    <tr>\n",
       "      <th>3</th>\n",
       "      <td>ATOM</td>\n",
       "      <td>4</td>\n",
       "      <td></td>\n",
       "      <td>CB</td>\n",
       "      <td></td>\n",
       "      <td>MET</td>\n",
       "      <td></td>\n",
       "      <td>A</td>\n",
       "      <td>1</td>\n",
       "      <td></td>\n",
       "      <td>...</td>\n",
       "      <td>37.089</td>\n",
       "      <td>-8.716</td>\n",
       "      <td>-17.765</td>\n",
       "      <td>1.0</td>\n",
       "      <td>60.47</td>\n",
       "      <td></td>\n",
       "      <td></td>\n",
       "      <td>C</td>\n",
       "      <td>NaN</td>\n",
       "      <td>190</td>\n",
       "    </tr>\n",
       "    <tr>\n",
       "      <th>4</th>\n",
       "      <td>ATOM</td>\n",
       "      <td>5</td>\n",
       "      <td></td>\n",
       "      <td>O</td>\n",
       "      <td></td>\n",
       "      <td>MET</td>\n",
       "      <td></td>\n",
       "      <td>A</td>\n",
       "      <td>1</td>\n",
       "      <td></td>\n",
       "      <td>...</td>\n",
       "      <td>36.623</td>\n",
       "      <td>-9.434</td>\n",
       "      <td>-14.449</td>\n",
       "      <td>1.0</td>\n",
       "      <td>60.47</td>\n",
       "      <td></td>\n",
       "      <td></td>\n",
       "      <td>O</td>\n",
       "      <td>NaN</td>\n",
       "      <td>191</td>\n",
       "    </tr>\n",
       "  </tbody>\n",
       "</table>\n",
       "<p>5 rows × 21 columns</p>\n",
       "</div>"
      ],
      "text/plain": [
       "  record_name  atom_number blank_1 atom_name alt_loc residue_name blank_2  \\\n",
       "0        ATOM            1                 N                  MET           \n",
       "1        ATOM            2                CA                  MET           \n",
       "2        ATOM            3                 C                  MET           \n",
       "3        ATOM            4                CB                  MET           \n",
       "4        ATOM            5                 O                  MET           \n",
       "\n",
       "  chain_id  residue_number insertion  ... x_coord  y_coord  z_coord  \\\n",
       "0        A               1            ...  38.776  -10.346  -16.776   \n",
       "1        A               1            ...  37.705   -9.353  -16.508   \n",
       "2        A               1            ...  36.650   -9.913  -15.568   \n",
       "3        A               1            ...  37.089   -8.716  -17.765   \n",
       "4        A               1            ...  36.623   -9.434  -14.449   \n",
       "\n",
       "   occupancy  b_factor  blank_4 segment_id element_symbol charge  line_idx  \n",
       "0        1.0     60.47                                  N    NaN       187  \n",
       "1        1.0     60.47                                  C    NaN       188  \n",
       "2        1.0     60.47                                  C    NaN       189  \n",
       "3        1.0     60.47                                  C    NaN       190  \n",
       "4        1.0     60.47                                  O    NaN       191  \n",
       "\n",
       "[5 rows x 21 columns]"
      ]
     },
     "execution_count": 4,
     "metadata": {},
     "output_type": "execute_result"
    }
   ],
   "source": [
    "ppdb.df['ATOM'].head()"
   ]
  },
  {
   "cell_type": "code",
   "execution_count": 5,
   "metadata": {},
   "outputs": [
    {
     "data": {
      "text/plain": [
       "np.float64(93.37404292949941)"
      ]
     },
     "execution_count": 5,
     "metadata": {},
     "output_type": "execute_result"
    }
   ],
   "source": [
    "atom_1 = ppdb.df['ATOM'].query('residue_number == 2 and atom_name == \"CA\"')\n",
    "atom_2 = ppdb.df['ATOM'].query('residue_number == 100 and atom_name == \"CA\"')\n",
    "x_p, y_p, z_p = atom_1['x_coord'].values[0], atom_1['y_coord'].values[0], atom_1['z_coord'].values[0]\n",
    "x_q, y_q, z_q  = atom_2['x_coord'].values[0], atom_2['y_coord'].values[0], atom_2['z_coord'].values[0]\n",
    "distance = np.sqrt((x_p - x_q)**2 + (y_p - y_q)**2 + (z_p - z_q)**2)\n",
    "\n",
    "distance"
   ]
  },
  {
   "cell_type": "code",
   "execution_count": 6,
   "metadata": {},
   "outputs": [],
   "source": [
    "def get_pairwise_distance(structure, residue_num_1, residue_num_2):\n",
    "    atom_1 = structure.query('residue_number == @residue_num_1 and atom_name == \"CA\"') # restrict to only res #1 and alpha carbon \n",
    "    atom_2 = structure.query('residue_number == @residue_num_2 and atom_name == \"CA\"') # restrict to only res #2 and alpha carbon \n",
    "    x_p, y_p, z_p = atom_1['x_coord'].values[0], atom_1['y_coord'].values[0], atom_1['z_coord'].values[0]\n",
    "    x_q, y_q, z_q  = atom_2['x_coord'].values[0], atom_2['y_coord'].values[0], atom_2['z_coord'].values[0]\n",
    "    distance = np.sqrt((x_p - x_q)**2 + (y_p - y_q)**2 + (z_p - z_q)**2)\n",
    "    return distance\n"
   ]
  },
  {
   "cell_type": "code",
   "execution_count": 7,
   "metadata": {},
   "outputs": [
    {
     "name": "stdout",
     "output_type": "stream",
     "text": [
      "14.348114196646192\n"
     ]
    },
    {
     "data": {
      "text/plain": [
       "np.float64(28.696228393292383)"
      ]
     },
     "execution_count": 7,
     "metadata": {},
     "output_type": "execute_result"
    }
   ],
   "source": [
    "input_struct = ppdb.df['ATOM']\n",
    "\n",
    "output = get_pairwise_distance(input_struct,1,10)\n",
    "print(output)\n",
    "output * 2"
   ]
  },
  {
   "cell_type": "code",
   "execution_count": 8,
   "metadata": {},
   "outputs": [],
   "source": [
    "def find_mean_distances(structure, target_residue, residue_list):\n",
    "    residue1 = target_residue\n",
    "    distances = []\n",
    "    for residue2 in residue_list:\n",
    "        residue2 = float(residue2)\n",
    "        distance_to_add = get_pairwise_distance(structure, residue1, residue2)\n",
    "        # print(distance_to_add)\n",
    "        distances.append(distance_to_add)\n",
    "        distances = [x for x in distances if x != 'NaN']\n",
    "    return np.mean(distances)"
   ]
  },
  {
   "cell_type": "code",
   "execution_count": 9,
   "metadata": {},
   "outputs": [],
   "source": [
    "pocket_residues = ['97', '99', '100', '101', '102', '159', '163', '189', '190']\n",
    "output = find_mean_distances(input_struct,2,pocket_residues)"
   ]
  },
  {
   "cell_type": "code",
   "execution_count": null,
   "metadata": {},
   "outputs": [],
   "source": [
    "\n"
   ]
  }
 ],
 "metadata": {
  "kernelspec": {
   "display_name": "snakemake",
   "language": "python",
   "name": "python3"
  },
  "language_info": {
   "codemirror_mode": {
    "name": "ipython",
    "version": 3
   },
   "file_extension": ".py",
   "mimetype": "text/x-python",
   "name": "python",
   "nbconvert_exporter": "python",
   "pygments_lexer": "ipython3",
   "version": "3.10.0"
  }
 },
 "nbformat": 4,
 "nbformat_minor": 2
}

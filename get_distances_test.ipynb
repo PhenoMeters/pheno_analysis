{
 "cells": [
  {
   "cell_type": "code",
   "execution_count": 2,
   "metadata": {},
   "outputs": [],
   "source": [
    "import pandas as pd\n",
    "import numpy as np \n",
    "import glob\n",
    "from Bio.PDB import *"
   ]
  },
  {
   "cell_type": "code",
   "execution_count": 4,
   "metadata": {},
   "outputs": [],
   "source": [
    "uniprot = \"Q9UPQ9\""
   ]
  },
  {
   "cell_type": "code",
   "execution_count": 13,
   "metadata": {},
   "outputs": [
    {
     "name": "stdout",
     "output_type": "stream",
     "text": [
      "['/rcfs/projects/proteometer/alphafold_swissprot_pdb/AF-Q9UPQ9-F1-model_v4.pdb']\n"
     ]
    }
   ],
   "source": [
    "parser = PDBParser()\n",
    "pdb_path = \"/rcfs/projects/proteometer/alphafold_swissprot_pdb\"\n",
    "pdb_name = glob.glob(\"/rcfs/projects/proteometer/alphafold_swissprot_pdb/*\" + uniprot + \"*\" \".pdb\")\n",
    "print(pdb_name)\n",
    "#structure = parser.get_structure(uniprot, '1fat.pdb')"
   ]
  },
  {
   "cell_type": "code",
   "execution_count": null,
   "metadata": {},
   "outputs": [],
   "source": []
  }
 ],
 "metadata": {
  "kernelspec": {
   "display_name": "snakemake",
   "language": "python",
   "name": "python3"
  },
  "language_info": {
   "codemirror_mode": {
    "name": "ipython",
    "version": 3
   },
   "file_extension": ".py",
   "mimetype": "text/x-python",
   "name": "python",
   "nbconvert_exporter": "python",
   "pygments_lexer": "ipython3",
   "version": "3.10.0"
  }
 },
 "nbformat": 4,
 "nbformat_minor": 2
}
